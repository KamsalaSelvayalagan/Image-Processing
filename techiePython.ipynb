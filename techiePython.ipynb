{
 "cells": [
  {
   "cell_type": "code",
   "execution_count": 2,
   "id": "40c8eb18",
   "metadata": {},
   "outputs": [
    {
     "ename": "AttributeError",
     "evalue": "'NoneType' object has no attribute 'shape'",
     "output_type": "error",
     "traceback": [
      "\u001b[1;31m---------------------------------------------------------------------------\u001b[0m",
      "\u001b[1;31mAttributeError\u001b[0m                            Traceback (most recent call last)",
      "\u001b[1;32m~\\AppData\\Local\\Temp\\ipykernel_5816\\3368121563.py\u001b[0m in \u001b[0;36m<module>\u001b[1;34m\u001b[0m\n\u001b[0;32m     23\u001b[0m \u001b[1;33m\u001b[0m\u001b[0m\n\u001b[0;32m     24\u001b[0m \u001b[0mscale_percent\u001b[0m \u001b[1;33m=\u001b[0m \u001b[1;36m20\u001b[0m\u001b[1;33m\u001b[0m\u001b[1;33m\u001b[0m\u001b[0m\n\u001b[1;32m---> 25\u001b[1;33m \u001b[0mwidth\u001b[0m \u001b[1;33m=\u001b[0m \u001b[0mint\u001b[0m\u001b[1;33m(\u001b[0m\u001b[0mimage\u001b[0m\u001b[1;33m.\u001b[0m\u001b[0mshape\u001b[0m\u001b[1;33m[\u001b[0m\u001b[1;36m1\u001b[0m\u001b[1;33m]\u001b[0m \u001b[1;33m*\u001b[0m \u001b[0mscale_percent\u001b[0m \u001b[1;33m/\u001b[0m \u001b[1;36m100\u001b[0m\u001b[1;33m)\u001b[0m\u001b[1;33m\u001b[0m\u001b[1;33m\u001b[0m\u001b[0m\n\u001b[0m\u001b[0;32m     26\u001b[0m \u001b[0mheight\u001b[0m \u001b[1;33m=\u001b[0m \u001b[0mint\u001b[0m\u001b[1;33m(\u001b[0m\u001b[0mimage\u001b[0m\u001b[1;33m.\u001b[0m\u001b[0mshape\u001b[0m\u001b[1;33m[\u001b[0m\u001b[1;36m0\u001b[0m\u001b[1;33m]\u001b[0m \u001b[1;33m*\u001b[0m \u001b[0mscale_percent\u001b[0m \u001b[1;33m/\u001b[0m \u001b[1;36m100\u001b[0m\u001b[1;33m)\u001b[0m\u001b[1;33m\u001b[0m\u001b[1;33m\u001b[0m\u001b[0m\n\u001b[0;32m     27\u001b[0m \u001b[0mresized_image\u001b[0m \u001b[1;33m=\u001b[0m \u001b[0mcv2\u001b[0m\u001b[1;33m.\u001b[0m\u001b[0mresize\u001b[0m\u001b[1;33m(\u001b[0m\u001b[0mimage\u001b[0m\u001b[1;33m,\u001b[0m \u001b[1;33m(\u001b[0m\u001b[0mwidth\u001b[0m\u001b[1;33m,\u001b[0m \u001b[0mheight\u001b[0m\u001b[1;33m)\u001b[0m\u001b[1;33m)\u001b[0m\u001b[1;33m\u001b[0m\u001b[1;33m\u001b[0m\u001b[0m\n",
      "\u001b[1;31mAttributeError\u001b[0m: 'NoneType' object has no attribute 'shape'"
     ]
    }
   ],
   "source": [
    "import cv2\n",
    "import numpy as np\n",
    "\n",
    "# Load the image\n",
    "image = cv2.imread('Fungi/Day_7/22_02_2023_11.00_pm/C35.jpg')\n",
    "\n",
    "# Thresholding function\n",
    "def update_threshold(*args):\n",
    "    # Retrieve trackbar positions\n",
    "    blockSize = cv2.getTrackbarPos('Block Size', 'Adaptive Thresholding')\n",
    "    C = cv2.getTrackbarPos('C', 'Adaptive Thresholding')\n",
    "\n",
    "    # Ensure blockSize is odd and at least 3\n",
    "    if blockSize % 2 == 0:\n",
    "        blockSize += 1\n",
    "    if blockSize < 3:\n",
    "        blockSize = 3\n",
    "\n",
    "    # Apply adaptive threshold\n",
    "    adaptive_thresh = cv2.adaptiveThreshold(sharpened_image, 255, cv2.ADAPTIVE_THRESH_GAUSSIAN_C, cv2.THRESH_BINARY, blockSize, C)\n",
    "    cv2.imshow('Adaptive Thresholding', adaptive_thresh)\n",
    "\n",
    "\n",
    "scale_percent = 20  \n",
    "width = int(image.shape[1] * scale_percent / 100)\n",
    "height = int(image.shape[0] * scale_percent / 100)\n",
    "resized_image = cv2.resize(image, (width, height))\n",
    "\n",
    "kernel_size = 3  \n",
    "median_filtered_image = cv2.medianBlur(resized_image, kernel_size)\n",
    "\n",
    "# Convert to grayscale\n",
    "image1 = cv2.cvtColor(median_filtered_image, cv2.COLOR_BGR2GRAY)\n",
    "\n",
    "# Calculate the Laplacian\n",
    "laplacian = cv2.Laplacian(image1, cv2.CV_64F)\n",
    "laplacian_display = cv2.convertScaleAbs(laplacian)\n",
    "\n",
    "sharpened_image = cv2.convertScaleAbs(image1 - laplacian)\n",
    "\n",
    "# Create a window for adaptive thresholding\n",
    "cv2.namedWindow('Adaptive Thresholding')\n",
    "\n",
    "# Create trackbars for block size and C\n",
    "cv2.createTrackbar('Block Size', 'Adaptive Thresholding', 121, 255, update_threshold)\n",
    "cv2.createTrackbar('C', 'Adaptive Thresholding', 7, 255, update_threshold)\n",
    "\n",
    "# Initialize display\n",
    "update_threshold()\n",
    "\n",
    "# Display the results\n",
    "cv2.imshow('Resized Image', resized_image)\n",
    "cv2.imshow('Median Filtered Image', median_filtered_image)\n",
    "cv2.imshow('Laplacian Image', laplacian_display)\n",
    "cv2.imshow('Sharpened Image', sharpened_image)\n",
    "\n",
    "\n",
    "cv2.waitKey(0)\n",
    "cv2.destroyAllWindows()"
   ]
  },
  {
   "cell_type": "code",
   "execution_count": null,
   "id": "07fcac26",
   "metadata": {},
   "outputs": [],
   "source": []
  }
 ],
 "metadata": {
  "kernelspec": {
   "display_name": "Python 3 (ipykernel)",
   "language": "python",
   "name": "python3"
  },
  "language_info": {
   "codemirror_mode": {
    "name": "ipython",
    "version": 3
   },
   "file_extension": ".py",
   "mimetype": "text/x-python",
   "name": "python",
   "nbconvert_exporter": "python",
   "pygments_lexer": "ipython3",
   "version": "3.7.16"
  }
 },
 "nbformat": 4,
 "nbformat_minor": 5
}
