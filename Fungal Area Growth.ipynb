{
 "cells": [
  {
   "cell_type": "code",
   "execution_count": 3,
   "id": "e3af9b57",
   "metadata": {},
   "outputs": [
    {
     "name": "stdout",
     "output_type": "stream",
     "text": [
      "Total area of yellow colonies: 43969.0\n"
     ]
    }
   ],
   "source": [
    "import cv2\n",
    "import numpy as np\n",
    "\n",
    "# Load the image\n",
    "image_path = 'Fungal Area/13.jpg'\n",
    "image = cv2.imread(image_path)\n",
    "\n",
    "# Resize the image\n",
    "scale_percent = 20\n",
    "width = int(image.shape[1] * scale_percent / 100)\n",
    "height = int(image.shape[0] * scale_percent / 100)\n",
    "resized_image = cv2.resize(image, (width, height))\n",
    "\n",
    "# Define the cropping coordinates\n",
    "top_left_corner = (46, 68)\n",
    "bottom_right_corner = (392, 578)\n",
    "\n",
    "\n",
    "# Crop the image using array slicing\n",
    "cropped_image = resized_image[top_left_corner[1]:bottom_right_corner[1], top_left_corner[0]:bottom_right_corner[0]]\n",
    "\n",
    "# Apply median filtering\n",
    "kernel_size = 3\n",
    "median_filtered_image = cv2.medianBlur(cropped_image, kernel_size)\n",
    "\n",
    "# Sharpen the image using the Laplacian on the original color image\n",
    "laplacian = cv2.Laplacian(median_filtered_image, cv2.CV_64F)\n",
    "laplacian_display = cv2.convertScaleAbs(laplacian)\n",
    "sharpened_image = cv2.convertScaleAbs(median_filtered_image - laplacian)\n",
    "\n",
    "# Convert the sharpened image to HSV color space\n",
    "hsv_image = cv2.cvtColor(sharpened_image, cv2.COLOR_BGR2HSV)\n",
    "\n",
    "# Define range for yellow color and create mask\n",
    "lower_yellow = np.array([22, 100, 100])\n",
    "upper_yellow = np.array([30, 255, 255])\n",
    "yellow_mask = cv2.inRange(hsv_image, lower_yellow, upper_yellow)\n",
    "\n",
    "# Perform morphological operations to clean up the yellow mask\n",
    "kernel = np.ones((3, 3), np.uint8)\n",
    "yellow_mask = cv2.morphologyEx(yellow_mask, cv2.MORPH_CLOSE, kernel, iterations=2)\n",
    "yellow_mask = cv2.morphologyEx(yellow_mask, cv2.MORPH_OPEN, kernel, iterations=2)\n",
    "\n",
    "# Find contours on the yellow mask\n",
    "yellow_contours, _ = cv2.findContours(yellow_mask, cv2.RETR_EXTERNAL, cv2.CHAIN_APPROX_SIMPLE)\n",
    "segmented_yellow_image = sharpened_image.copy()\n",
    "cv2.drawContours(segmented_yellow_image, yellow_contours, -1, (0, 255, 255), 2)\n",
    "\n",
    "# Calculate area of yellow colonies\n",
    "yellow_area = sum(cv2.contourArea(contour) for contour in yellow_contours)\n",
    "\n",
    "# Display the results\n",
    "cv2.imshow('Resized Image', resized_image)\n",
    "cv2.imshow('Cropped Image', cropped_image)\n",
    "cv2.imshow('Median Filtered Image', median_filtered_image)\n",
    "cv2.imshow('Laplacian Image', laplacian_display)\n",
    "cv2.imshow('Sharpened Image', sharpened_image)\n",
    "cv2.imshow('Yellow Colony Segmentation', yellow_mask)\n",
    "cv2.imshow('Segmented Yellow Image', segmented_yellow_image)\n",
    "\n",
    "print(f\"Total area of yellow colonies: {yellow_area}\")\n",
    "\n",
    "cv2.waitKey(0)\n",
    "cv2.destroyAllWindows()\n"
   ]
  },
  {
   "cell_type": "code",
   "execution_count": null,
   "id": "c64ad480",
   "metadata": {},
   "outputs": [],
   "source": []
  },
  {
   "cell_type": "code",
   "execution_count": null,
   "id": "fc51af02",
   "metadata": {},
   "outputs": [],
   "source": []
  },
  {
   "cell_type": "code",
   "execution_count": null,
   "id": "3b8e82a6",
   "metadata": {},
   "outputs": [],
   "source": []
  }
 ],
 "metadata": {
  "kernelspec": {
   "display_name": "Python 3 (ipykernel)",
   "language": "python",
   "name": "python3"
  },
  "language_info": {
   "codemirror_mode": {
    "name": "ipython",
    "version": 3
   },
   "file_extension": ".py",
   "mimetype": "text/x-python",
   "name": "python",
   "nbconvert_exporter": "python",
   "pygments_lexer": "ipython3",
   "version": "3.7.16"
  }
 },
 "nbformat": 4,
 "nbformat_minor": 5
}
